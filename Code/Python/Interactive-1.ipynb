{
 "cells": [
  {
   "cell_type": "markdown",
   "metadata": {},
   "source": [
    "Connected to Python 3.13.5"
   ]
  },
  {
   "cell_type": "code",
   "execution_count": null,
   "id": "312a6efd-699d-4359-944c-0f68cf7fe79e",
   "metadata": {},
   "outputs": [
    {
     "name": "stdout",
     "output_type": "stream",
     "text": [
      "[<generator object <genexpr> at 0x000001FC994A71F0>]\n"
     ]
    }
   ],
   "source": [
    "files=[]\n",
    "\n",
    "folder_path = \"C:/Users/Owner/Documents/scRNAseq/Data/GSM\"\n",
    "files.append(f for f in os.listdir(folder_path) if os.path.isfile(os.path.join(folder_path, f)))\n",
    "print(files)"
   ]
  },
  {
   "cell_type": "code",
   "execution_count": null,
   "id": "b5faf763-300a-458a-8d4e-1ea062418068",
   "metadata": {},
   "outputs": [],
   "source": [
    "folder_path = \"C:/Users/Owner/Documents/scRNAseq/Data/GSM\""
   ]
  },
  {
   "cell_type": "code",
   "execution_count": null,
   "id": "78e5030c",
   "metadata": {},
   "outputs": [],
   "source": []
  },
  {
   "cell_type": "code",
   "execution_count": null,
   "id": "3c8fa577-bade-4c69-8444-821355305e34",
   "metadata": {},
   "outputs": [],
   "source": [
    "files.append(f for f in os.listdir(folder_path) if os.path.isfile(os.path.join(folder_path, f)))"
   ]
  },
  {
   "cell_type": "code",
   "execution_count": null,
   "id": "6dd93bc8-adad-4257-aaac-54693486e0cb",
   "metadata": {},
   "outputs": [
    {
     "name": "stdout",
     "output_type": "stream",
     "text": [
      "[<generator object <genexpr> at 0x000001FC994A71F0>, <generator object <genexpr> at 0x000001FC994A73D0>]\n"
     ]
    }
   ],
   "source": [
    "print(files)"
   ]
  },
  {
   "cell_type": "code",
   "execution_count": null,
   "id": "364c95fc-7304-42b0-9c1e-7f3c1cbfad74",
   "metadata": {},
   "outputs": [
    {
     "name": "stdout",
     "output_type": "stream",
     "text": [
      "GSM6817423_A.barcodes.tsv.gz\n",
      "✅ Downloaded: GSM6817423_A.barcodes.tsv.gz\n",
      "GSM6817423_A.features.tsv.gz\n",
      "✅ Downloaded: GSM6817423_A.features.tsv.gz\n",
      "GSM6817423_A.matrix.mtx.gz\n",
      "✅ Downloaded: GSM6817423_A.matrix.mtx.gz\n",
      "GSM6817424_B.barcodes.tsv.gz\n",
      "✅ Downloaded: GSM6817424_B.barcodes.tsv.gz\n",
      "GSM6817424_B.features.tsv.gz\n",
      "✅ Downloaded: GSM6817424_B.features.tsv.gz\n",
      "GSM6817424_B.matrix.mtx.gz\n",
      "✅ Downloaded: GSM6817424_B.matrix.mtx.gz\n",
      "GSM6817425_C.barcodes.tsv.gz\n",
      "✅ Downloaded: GSM6817425_C.barcodes.tsv.gz\n",
      "GSM6817425_C.features.tsv.gz\n",
      "✅ Downloaded: GSM6817425_C.features.tsv.gz\n",
      "GSM6817425_C.matrix.mtx.gz\n",
      "✅ Downloaded: GSM6817425_C.matrix.mtx.gz\n",
      "GSM6817426_D.barcodes.tsv.gz\n",
      "✅ Downloaded: GSM6817426_D.barcodes.tsv.gz\n",
      "GSM6817426_D.features.tsv.gz\n",
      "✅ Downloaded: GSM6817426_D.features.tsv.gz\n",
      "GSM6817426_D.matrix.mtx.gz\n",
      "✅ Downloaded: GSM6817426_D.matrix.mtx.gz\n",
      "GSM6817427_E.barcodes.tsv.gz\n",
      "✅ Downloaded: GSM6817427_E.barcodes.tsv.gz\n",
      "GSM6817427_E.features.tsv.gz\n",
      "✅ Downloaded: GSM6817427_E.features.tsv.gz\n",
      "GSM6817427_E.matrix.mtx.gz\n",
      "✅ Downloaded: GSM6817427_E.matrix.mtx.gz\n",
      "GSM6817428_F.barcodes.tsv.gz\n",
      "✅ Downloaded: GSM6817428_F.barcodes.tsv.gz\n",
      "GSM6817428_F.features.tsv.gz\n",
      "✅ Downloaded: GSM6817428_F.features.tsv.gz\n",
      "GSM6817428_F.matrix.mtx.gz\n",
      "✅ Downloaded: GSM6817428_F.matrix.mtx.gz\n",
      "['GSM6817423.txt', 'GSM6817423_A.barcodes.tsv.gz', 'GSM6817423_A.features.tsv.gz', 'GSM6817423_A.matrix.mtx.gz', 'GSM6817424.txt', 'GSM6817424_B.barcodes.tsv.gz', 'GSM6817424_B.features.tsv.gz', 'GSM6817424_B.matrix.mtx.gz', 'GSM6817425_C.barcodes.tsv.gz', 'GSM6817425_C.features.tsv.gz', 'GSM6817425_C.matrix.mtx.gz', 'GSM6817425_D.barcodes.tsv.gz', 'GSM6817425_D.features.tsv.gz', 'GSM6817425_D.matrix.mtx.gz', 'GSM6817426_D.barcodes.tsv.gz', 'GSM6817426_D.features.tsv.gz', 'GSM6817426_D.matrix.mtx.gz', 'GSM6817426_E.barcodes.tsv.gz', 'GSM6817426_E.features.tsv.gz', 'GSM6817426_E.matrix.mtx.gz', 'GSM6817426_F.barcodes.tsv.gz', 'GSM6817426_F.features.tsv.gz', 'GSM6817426_F.matrix.mtx.gz', 'GSM6817427_E.barcodes.tsv.gz', 'GSM6817427_E.features.tsv.gz', 'GSM6817427_E.matrix.mtx.gz', 'GSM6817427_F.barcodes.tsv.gz', 'GSM6817427_F.features.tsv.gz', 'GSM6817427_F.matrix.mtx.gz', 'GSM6817427_G.barcodes.tsv.gz', 'GSM6817427_G.features.tsv.gz', 'GSM6817427_G.matrix.mtx.gz', 'GSM6817428_F.barcodes.tsv.gz', 'GSM6817428_F.features.tsv.gz', 'GSM6817428_F.matrix.mtx.gz']\n"
     ]
    }
   ],
   "source": [
    "import os  # Provides functions for interacting with the operating system\n",
    "import io  # Provides tools for working with streams (used for in-memory text streams)\n",
    "from ftplib import FTP  # For FTP file transfers\n",
    "\n",
    "\n",
    "# Set the working directory\n",
    "os.chdir(\"C:/Users/Owner/Documents/scRNAseq\")  # Change to the directory where you want to save the files\n",
    "\n",
    "from ftplib import FTP\n",
    "import os\n",
    "\n",
    "def FTP_GSM_Down(gsm_id, tag,ext, local_dir):\n",
    "    ftp_host = \"ftp.ncbi.nlm.nih.gov\"\n",
    "    ftp_dir = f\"/geo/samples/GSM6817nnn/{gsm_id}/suppl\"\n",
    "    filename = f\"{gsm_id}{tag}{ext}\"\n",
    "    local_file = os.path.join(local_dir, filename)\n",
    "\n",
    "    os.makedirs(local_dir, exist_ok=True)\n",
    "    print(filename)\n",
    "    try:\n",
    "        ftp = FTP(ftp_host)\n",
    "        ftp.login()\n",
    "        ftp.cwd(ftp_dir)\n",
    "        with open(local_file, \"wb\") as f:\n",
    "            ftp.retrbinary(f\"RETR {filename}\", f.write)\n",
    "        ftp.quit()\n",
    "        print(f\"✅ Downloaded: {filename}\")\n",
    "    except Exception as e:\n",
    "        print(f\"❌ Error downloading {filename}: {e}\")\n",
    "\n",
    "# ---- CONFIG ----\n",
    "\n",
    "gsm_id = [(\"GSM6817423\",\"_A\"),(\"GSM6817424\",\"_B\"),(\"GSM6817425\",\"_C\"),(\"GSM6817426\",\"_D\"),(\"GSM6817427\",\"_E\"),(\"GSM6817428\",\"_F\")] #GSM6817428\",\"GSM6817429\"]#],\"GSM6817430_H\",\"GSM6817431_I\",\"GSM6817432_J\"]\n",
    "extensions = [\".barcodes.tsv.gz\", \".features.tsv.gz\", \".matrix.mtx.gz\"]\n",
    "\n",
    "local_dir = \"C:/Users/Owner/Documents/scRNAseq/Data/GSM\"\n",
    "\n",
    "for id,tag in gsm_id:\n",
    "    for ext in extensions:\n",
    "        FTP_GSM_Down(id, tag,ext, local_dir)\n",
    "\n",
    "\n",
    "\n",
    "files = []\n",
    "\n",
    "folder_path = \"C:/Users/Owner/Documents/scRNAseq/Data/GSM\"\n",
    "files=[f for f in os.listdir(folder_path) if os.path.isfile(os.path.join(folder_path, f))]\n",
    "print(files)"
   ]
  },
  {
   "cell_type": "code",
   "execution_count": null,
   "id": "d56a3bad-306b-445c-af20-9423294ea26f",
   "metadata": {},
   "outputs": [
    {
     "ename": "IndentationError",
     "evalue": "expected an indented block after 'if' statement on line 58 (<ipython-input-6-83950d425578>, line 59)",
     "output_type": "error",
     "traceback": [
      "  \u001b[36mCell\u001b[39m\u001b[36m \u001b[39m\u001b[32mIn[6]\u001b[39m\u001b[32m, line 59\u001b[39m\n\u001b[31m    \u001b[39m\u001b[31mos.rename(os.path.join(folder_path, file), os.path.join(folder_path, \"GSM\"+code[0]+\".txt\"))\u001b[39m\n    ^\n\u001b[31mIndentationError\u001b[39m\u001b[31m:\u001b[39m expected an indented block after 'if' statement on line 58\n"
     ]
    }
   ],
   "source": [
    "import os  # Provides functions for interacting with the operating system\n",
    "import io  # Provides tools for working with streams (used for in-memory text streams)\n",
    "from ftplib import FTP  # For FTP file transfers\n",
    "\n",
    "\n",
    "# Set the working directory\n",
    "os.chdir(\"C:/Users/Owner/Documents/scRNAseq\")  # Change to the directory where you want to save the files\n",
    "\n",
    "from ftplib import FTP\n",
    "import os\n",
    "\n",
    "def FTP_GSM_Down(gsm_id, tag,ext, local_dir):\n",
    "    ftp_host = \"ftp.ncbi.nlm.nih.gov\"\n",
    "    ftp_dir = f\"/geo/samples/GSM6817nnn/{gsm_id}/suppl\"\n",
    "    filename = f\"{gsm_id}{tag}{ext}\"\n",
    "    local_file = os.path.join(local_dir, filename)\n",
    "\n",
    "    os.makedirs(local_dir, exist_ok=True)\n",
    "    print(filename)\n",
    "    try:\n",
    "        ftp = FTP(ftp_host)\n",
    "        ftp.login()\n",
    "        ftp.cwd(ftp_dir)\n",
    "        with open(local_file, \"wb\") as f:\n",
    "            ftp.retrbinary(f\"RETR {filename}\", f.write)\n",
    "        ftp.quit()\n",
    "        print(f\"✅ Downloaded: {filename}\")\n",
    "    except Exception as e:\n",
    "        print(f\"❌ Error downloading {filename}: {e}\")\n",
    "\n",
    "# ---- CONFIG ----\n",
    "\n",
    "gsm_id = [(\"GSM6817423\",\"_A\"),(\"GSM6817424\",\"_B\"),(\"GSM6817425\",\"_C\"),(\"GSM6817426\",\"_D\"),(\"GSM6817427\",\"_E\"),(\"GSM6817428\",\"_F\")] #GSM6817428\",\"GSM6817429\"]#],\"GSM6817430_H\",\"GSM6817431_I\",\"GSM6817432_J\"]\n",
    "extensions = [\".barcodes.tsv.gz\", \".features.tsv.gz\", \".matrix.mtx.gz\"]\n",
    "\n",
    "local_dir = \"C:/Users/Owner/Documents/scRNAseq/Data/GSM\"\n",
    "\n",
    "for id,tag in gsm_id:\n",
    "    for ext in extensions:\n",
    "        FTP_GSM_Down(id, tag,ext, local_dir)\n",
    "\n",
    "\n",
    "\n",
    "files = []\n",
    "\n",
    "folder_path = \"C:/Users/Owner/Documents/scRNAseq/Data/GSM\"\n",
    "files=[f for f in os.listdir(folder_path) if os.path.isfile(os.path.join(folder_path, f))]\n",
    "print(files)\n",
    "\n",
    "for file in files:\n",
    "    code=re.findall(r'\\d+', file)\n",
    "\n",
    "    if not os.path.isdir(\"C:/Users/Owner/Documents/scRNAseq/Data/GSM/\"+code):\n",
    "       os.makedirs(\"C:/Users/Owner/Documents/scRNAseq/Data/GSM/\"+code[0])\n",
    "     \n",
    "\n",
    "\n",
    "    if re.match(r'matrix', file):\n",
    "    os.rename(os.path.join(folder_path, file), os.path.join(folder_path, \"GSM\"+code[0]+\".txt\"))\n",
    "    if os.path.isdir(\"C:/Users/Owner/Documents/scRNAseq/Data/GSM\"+code)\n",
    "        print(\"Directory exists\")\n",
    "else:\n",
    "    print(\"Directory does not exist\")\n",
    "\n",
    "        print(file)"
   ]
  },
  {
   "cell_type": "code",
   "execution_count": null,
   "id": "2043cdd9-4bf4-4ecd-9f83-85913367b18b",
   "metadata": {},
   "outputs": [
    {
     "name": "stdout",
     "output_type": "stream",
     "text": [
      "GSM6817423_A.barcodes.tsv.gz\n",
      "✅ Downloaded: GSM6817423_A.barcodes.tsv.gz\n",
      "GSM6817423_A.features.tsv.gz\n",
      "✅ Downloaded: GSM6817423_A.features.tsv.gz\n",
      "GSM6817423_A.matrix.mtx.gz\n",
      "✅ Downloaded: GSM6817423_A.matrix.mtx.gz\n",
      "GSM6817424_B.barcodes.tsv.gz\n",
      "✅ Downloaded: GSM6817424_B.barcodes.tsv.gz\n",
      "GSM6817424_B.features.tsv.gz\n",
      "✅ Downloaded: GSM6817424_B.features.tsv.gz\n",
      "GSM6817424_B.matrix.mtx.gz\n",
      "✅ Downloaded: GSM6817424_B.matrix.mtx.gz\n",
      "GSM6817425_C.barcodes.tsv.gz\n",
      "✅ Downloaded: GSM6817425_C.barcodes.tsv.gz\n",
      "GSM6817425_C.features.tsv.gz\n",
      "✅ Downloaded: GSM6817425_C.features.tsv.gz\n",
      "GSM6817425_C.matrix.mtx.gz\n",
      "✅ Downloaded: GSM6817425_C.matrix.mtx.gz\n",
      "GSM6817426_D.barcodes.tsv.gz\n",
      "✅ Downloaded: GSM6817426_D.barcodes.tsv.gz\n",
      "GSM6817426_D.features.tsv.gz\n",
      "✅ Downloaded: GSM6817426_D.features.tsv.gz\n",
      "GSM6817426_D.matrix.mtx.gz\n",
      "✅ Downloaded: GSM6817426_D.matrix.mtx.gz\n",
      "GSM6817427_E.barcodes.tsv.gz\n",
      "✅ Downloaded: GSM6817427_E.barcodes.tsv.gz\n",
      "GSM6817427_E.features.tsv.gz\n",
      "✅ Downloaded: GSM6817427_E.features.tsv.gz\n",
      "GSM6817427_E.matrix.mtx.gz\n",
      "✅ Downloaded: GSM6817427_E.matrix.mtx.gz\n",
      "GSM6817428_F.barcodes.tsv.gz\n",
      "✅ Downloaded: GSM6817428_F.barcodes.tsv.gz\n",
      "GSM6817428_F.features.tsv.gz\n",
      "✅ Downloaded: GSM6817428_F.features.tsv.gz\n",
      "GSM6817428_F.matrix.mtx.gz\n",
      "✅ Downloaded: GSM6817428_F.matrix.mtx.gz\n",
      "['GSM6817423.txt', 'GSM6817423_A.barcodes.tsv.gz', 'GSM6817423_A.features.tsv.gz', 'GSM6817423_A.matrix.mtx.gz', 'GSM6817424.txt', 'GSM6817424_B.barcodes.tsv.gz', 'GSM6817424_B.features.tsv.gz', 'GSM6817424_B.matrix.mtx.gz', 'GSM6817425_C.barcodes.tsv.gz', 'GSM6817425_C.features.tsv.gz', 'GSM6817425_C.matrix.mtx.gz', 'GSM6817425_D.barcodes.tsv.gz', 'GSM6817425_D.features.tsv.gz', 'GSM6817425_D.matrix.mtx.gz', 'GSM6817426_D.barcodes.tsv.gz', 'GSM6817426_D.features.tsv.gz', 'GSM6817426_D.matrix.mtx.gz', 'GSM6817426_E.barcodes.tsv.gz', 'GSM6817426_E.features.tsv.gz', 'GSM6817426_E.matrix.mtx.gz', 'GSM6817426_F.barcodes.tsv.gz', 'GSM6817426_F.features.tsv.gz', 'GSM6817426_F.matrix.mtx.gz', 'GSM6817427_E.barcodes.tsv.gz', 'GSM6817427_E.features.tsv.gz', 'GSM6817427_E.matrix.mtx.gz', 'GSM6817427_F.barcodes.tsv.gz', 'GSM6817427_F.features.tsv.gz', 'GSM6817427_F.matrix.mtx.gz', 'GSM6817427_G.barcodes.tsv.gz', 'GSM6817427_G.features.tsv.gz', 'GSM6817427_G.matrix.mtx.gz', 'GSM6817428_F.barcodes.tsv.gz', 'GSM6817428_F.features.tsv.gz', 'GSM6817428_F.matrix.mtx.gz']\n"
     ]
    }
   ],
   "source": [
    "import os  # Provides functions for interacting with the operating system\n",
    "import io  # Provides tools for working with streams (used for in-memory text streams)\n",
    "from ftplib import FTP  # For FTP file transfers\n",
    "\n",
    "\n",
    "# Set the working directory\n",
    "os.chdir(\"C:/Users/Owner/Documents/scRNAseq\")  # Change to the directory where you want to save the files\n",
    "\n",
    "from ftplib import FTP\n",
    "import os\n",
    "\n",
    "def FTP_GSM_Down(gsm_id, tag,ext, local_dir):\n",
    "    ftp_host = \"ftp.ncbi.nlm.nih.gov\"\n",
    "    ftp_dir = f\"/geo/samples/GSM6817nnn/{gsm_id}/suppl\"\n",
    "    filename = f\"{gsm_id}{tag}{ext}\"\n",
    "    local_file = os.path.join(local_dir, filename)\n",
    "\n",
    "    os.makedirs(local_dir, exist_ok=True)\n",
    "    print(filename)\n",
    "    try:\n",
    "        ftp = FTP(ftp_host)\n",
    "        ftp.login()\n",
    "        ftp.cwd(ftp_dir)\n",
    "        with open(local_file, \"wb\") as f:\n",
    "            ftp.retrbinary(f\"RETR {filename}\", f.write)\n",
    "        ftp.quit()\n",
    "        print(f\"✅ Downloaded: {filename}\")\n",
    "    except Exception as e:\n",
    "        print(f\"❌ Error downloading {filename}: {e}\")\n",
    "\n",
    "# ---- CONFIG ----\n",
    "\n",
    "gsm_id = [(\"GSM6817423\",\"_A\"),(\"GSM6817424\",\"_B\"),(\"GSM6817425\",\"_C\"),(\"GSM6817426\",\"_D\"),(\"GSM6817427\",\"_E\"),(\"GSM6817428\",\"_F\")] #GSM6817428\",\"GSM6817429\"]#],\"GSM6817430_H\",\"GSM6817431_I\",\"GSM6817432_J\"]\n",
    "extensions = [\".barcodes.tsv.gz\", \".features.tsv.gz\", \".matrix.mtx.gz\"]\n",
    "\n",
    "local_dir = \"C:/Users/Owner/Documents/scRNAseq/Data/GSM\"\n",
    "\n",
    "for id,tag in gsm_id:\n",
    "    for ext in extensions:\n",
    "        FTP_GSM_Down(id, tag,ext, local_dir)\n",
    "\n",
    "\n",
    "\n",
    "files = []\n",
    "\n",
    "folder_path = \"C:/Users/Owner/Documents/scRNAseq/Data/GSM\"\n",
    "files=[f for f in os.listdir(folder_path) if os.path.isfile(os.path.join(folder_path, f))]\n",
    "print(files)"
   ]
  },
  {
   "cell_type": "code",
   "execution_count": null,
   "id": "88347fea-34f9-4c46-bc33-9d8bb9807620",
   "metadata": {},
   "outputs": [
    {
     "name": "stdout",
     "output_type": "stream",
     "text": [
      "GSM6817423_A.barcodes.tsv.gz\n",
      "✅ Downloaded: GSM6817423_A.barcodes.tsv.gz\n",
      "GSM6817423_A.features.tsv.gz\n",
      "✅ Downloaded: GSM6817423_A.features.tsv.gz\n",
      "GSM6817423_A.matrix.mtx.gz\n",
      "✅ Downloaded: GSM6817423_A.matrix.mtx.gz\n",
      "GSM6817424_B.barcodes.tsv.gz\n",
      "✅ Downloaded: GSM6817424_B.barcodes.tsv.gz\n",
      "GSM6817424_B.features.tsv.gz\n",
      "✅ Downloaded: GSM6817424_B.features.tsv.gz\n",
      "GSM6817424_B.matrix.mtx.gz\n",
      "✅ Downloaded: GSM6817424_B.matrix.mtx.gz\n",
      "GSM6817425_C.barcodes.tsv.gz\n",
      "✅ Downloaded: GSM6817425_C.barcodes.tsv.gz\n",
      "GSM6817425_C.features.tsv.gz\n",
      "✅ Downloaded: GSM6817425_C.features.tsv.gz\n",
      "GSM6817425_C.matrix.mtx.gz\n",
      "✅ Downloaded: GSM6817425_C.matrix.mtx.gz\n",
      "GSM6817426_D.barcodes.tsv.gz\n",
      "✅ Downloaded: GSM6817426_D.barcodes.tsv.gz\n",
      "GSM6817426_D.features.tsv.gz\n",
      "✅ Downloaded: GSM6817426_D.features.tsv.gz\n",
      "GSM6817426_D.matrix.mtx.gz\n",
      "✅ Downloaded: GSM6817426_D.matrix.mtx.gz\n",
      "GSM6817427_E.barcodes.tsv.gz\n",
      "✅ Downloaded: GSM6817427_E.barcodes.tsv.gz\n",
      "GSM6817427_E.features.tsv.gz\n",
      "✅ Downloaded: GSM6817427_E.features.tsv.gz\n",
      "GSM6817427_E.matrix.mtx.gz\n",
      "✅ Downloaded: GSM6817427_E.matrix.mtx.gz\n",
      "GSM6817428_F.barcodes.tsv.gz\n",
      "✅ Downloaded: GSM6817428_F.barcodes.tsv.gz\n",
      "GSM6817428_F.features.tsv.gz\n",
      "✅ Downloaded: GSM6817428_F.features.tsv.gz\n",
      "GSM6817428_F.matrix.mtx.gz\n",
      "✅ Downloaded: GSM6817428_F.matrix.mtx.gz\n"
     ]
    }
   ],
   "source": [
    "import os  # Provides functions for interacting with the operating system\n",
    "import io  # Provides tools for working with streams (used for in-memory text streams)\n",
    "from ftplib import FTP  # For FTP file transfers\n",
    "\n",
    "\n",
    "# Set the working directory\n",
    "os.chdir(\"C:/Users/Owner/Documents/scRNAseq\")  # Change to the directory where you want to save the files\n",
    "\n",
    "from ftplib import FTP\n",
    "import os\n",
    "\n",
    "def FTP_GSM_Down(gsm_id, tag,ext, local_dir):\n",
    "    ftp_host = \"ftp.ncbi.nlm.nih.gov\"\n",
    "    ftp_dir = f\"/geo/samples/GSM6817nnn/{gsm_id}/suppl\"\n",
    "    filename = f\"{gsm_id}{tag}{ext}\"\n",
    "    local_file = os.path.join(local_dir, filename)\n",
    "\n",
    "    os.makedirs(local_dir, exist_ok=True)\n",
    "    print(filename)\n",
    "    try:\n",
    "        ftp = FTP(ftp_host)\n",
    "        ftp.login()\n",
    "        ftp.cwd(ftp_dir)\n",
    "        with open(local_file, \"wb\") as f:\n",
    "            ftp.retrbinary(f\"RETR {filename}\", f.write)\n",
    "        ftp.quit()\n",
    "        print(f\"✅ Downloaded: {filename}\")\n",
    "    except Exception as e:\n",
    "        print(f\"❌ Error downloading {filename}: {e}\")\n",
    "\n",
    "# ---- CONFIG ----\n",
    "\n",
    "gsm_id = [(\"GSM6817423\",\"_A\"),(\"GSM6817424\",\"_B\"),(\"GSM6817425\",\"_C\"),(\"GSM6817426\",\"_D\"),(\"GSM6817427\",\"_E\"),(\"GSM6817428\",\"_F\")] #GSM6817428\",\"GSM6817429\"]#],\"GSM6817430_H\",\"GSM6817431_I\",\"GSM6817432_J\"]\n",
    "extensions = [\".barcodes.tsv.gz\", \".features.tsv.gz\", \".matrix.mtx.gz\"]\n",
    "\n",
    "local_dir = \"C:/Users/Owner/Documents/scRNAseq/Data/GSM\"\n",
    "\n",
    "for id,tag in gsm_id:\n",
    "    for ext in extensions:\n",
    "        FTP_GSM_Down(id, tag,ext, local_dir)"
   ]
  },
  {
   "cell_type": "code",
   "execution_count": null,
   "id": "30eb785a-d466-4398-85ec-54180ce58745",
   "metadata": {},
   "outputs": [
    {
     "ename": "_IncompleteInputError",
     "evalue": "incomplete input (<ipython-input-9-49347f7a5ebc>, line 1)",
     "output_type": "error",
     "traceback": [
      "  \u001b[36mCell\u001b[39m\u001b[36m \u001b[39m\u001b[32mIn[9]\u001b[39m\u001b[32m, line 1\u001b[39m\n\u001b[31m    \u001b[39m\u001b[31m'''\u001b[39m\n    ^\n\u001b[31m_IncompleteInputError\u001b[39m\u001b[31m:\u001b[39m incomplete input\n"
     ]
    }
   ],
   "source": [
    "'''\n",
    "\n",
    "files = []\n",
    "\n",
    "folder_path = \"C:/Users/Owner/Documents/scRNAseq/Data/GSM\"\n",
    "files=[f for f in os.listdir(folder_path) if os.path.isfile(os.path.join(folder_path, f))]\n",
    "print(files)\n",
    "\n",
    "for file in files:\n",
    "    code=re.findall(r'\\d+', file)\n",
    "\n",
    "    if not os.path.isdir(\"C:/Users/Owner/Documents/scRNAseq/Data/GSM/\"+code):\n",
    "       os.makedirs(\"C:/Users/Owner/Documents/scRNAseq/Data/GSM/\"+code[0])\n",
    "     \n",
    "\n",
    "\n",
    "    if re.match(r'matrix', file):\n",
    "        os.rename(os.path.join(folder_path, file), os.path.join(folder_path, \"GSM\"+code[0]+\".txt\"))\n",
    "    if os.path.isdir(\"C:/Users/Owner/Documents/scRNAseq/Data/GSM\"+code):\n",
    "        print(\"Directory exists\")"
   ]
  },
  {
   "cell_type": "code",
   "execution_count": null,
   "id": "1540b041-8216-47e4-8ad7-b0a8a5425f9c",
   "metadata": {},
   "outputs": [
    {
     "name": "stdout",
     "output_type": "stream",
     "text": [
      "['GSM6817423.txt', 'GSM6817423_A.barcodes.tsv.gz', 'GSM6817423_A.features.tsv.gz', 'GSM6817423_A.matrix.mtx.gz', 'GSM6817424.txt', 'GSM6817424_B.barcodes.tsv.gz', 'GSM6817424_B.features.tsv.gz', 'GSM6817424_B.matrix.mtx.gz', 'GSM6817425_C.barcodes.tsv.gz', 'GSM6817425_C.features.tsv.gz', 'GSM6817425_C.matrix.mtx.gz', 'GSM6817425_D.barcodes.tsv.gz', 'GSM6817425_D.features.tsv.gz', 'GSM6817425_D.matrix.mtx.gz', 'GSM6817426_D.barcodes.tsv.gz', 'GSM6817426_D.features.tsv.gz', 'GSM6817426_D.matrix.mtx.gz', 'GSM6817426_E.barcodes.tsv.gz', 'GSM6817426_E.features.tsv.gz', 'GSM6817426_E.matrix.mtx.gz', 'GSM6817426_F.barcodes.tsv.gz', 'GSM6817426_F.features.tsv.gz', 'GSM6817426_F.matrix.mtx.gz', 'GSM6817427_E.barcodes.tsv.gz', 'GSM6817427_E.features.tsv.gz', 'GSM6817427_E.matrix.mtx.gz', 'GSM6817427_F.barcodes.tsv.gz', 'GSM6817427_F.features.tsv.gz', 'GSM6817427_F.matrix.mtx.gz', 'GSM6817427_G.barcodes.tsv.gz', 'GSM6817427_G.features.tsv.gz', 'GSM6817427_G.matrix.mtx.gz', 'GSM6817428_F.barcodes.tsv.gz', 'GSM6817428_F.features.tsv.gz', 'GSM6817428_F.matrix.mtx.gz']\n"
     ]
    },
    {
     "ename": "NameError",
     "evalue": "name 're' is not defined",
     "output_type": "error",
     "traceback": [
      "\u001b[31m---------------------------------------------------------------------------\u001b[39m",
      "\u001b[31mNameError\u001b[39m                                 Traceback (most recent call last)",
      "\u001b[36mCell\u001b[39m\u001b[36m \u001b[39m\u001b[32mIn[10]\u001b[39m\u001b[32m, line 8\u001b[39m\n\u001b[32m      5\u001b[39m \u001b[38;5;28mprint\u001b[39m(files)\n\u001b[32m      7\u001b[39m \u001b[38;5;28;01mfor\u001b[39;00m file \u001b[38;5;129;01min\u001b[39;00m files:\n\u001b[32m----> \u001b[39m\u001b[32m8\u001b[39m     code=\u001b[43mre\u001b[49m.findall(\u001b[33mr\u001b[39m\u001b[33m'\u001b[39m\u001b[33m\\\u001b[39m\u001b[33md+\u001b[39m\u001b[33m'\u001b[39m, file)\n\u001b[32m     10\u001b[39m     \u001b[38;5;28;01mif\u001b[39;00m \u001b[38;5;129;01mnot\u001b[39;00m os.path.isdir(\u001b[33m\"\u001b[39m\u001b[33mC:/Users/Owner/Documents/scRNAseq/Data/GSM/\u001b[39m\u001b[33m\"\u001b[39m+code):\n\u001b[32m     11\u001b[39m        os.makedirs(\u001b[33m\"\u001b[39m\u001b[33mC:/Users/Owner/Documents/scRNAseq/Data/GSM/\u001b[39m\u001b[33m\"\u001b[39m+code[\u001b[32m0\u001b[39m])\n",
      "\u001b[31mNameError\u001b[39m: name 're' is not defined"
     ]
    }
   ],
   "source": [
    "files = []\n",
    "\n",
    "folder_path = \"C:/Users/Owner/Documents/scRNAseq/Data/GSM\"\n",
    "files=[f for f in os.listdir(folder_path) if os.path.isfile(os.path.join(folder_path, f))]\n",
    "print(files)\n",
    "\n",
    "for file in files:\n",
    "    code=re.findall(r'\\d+', file)\n",
    "\n",
    "    if not os.path.isdir(\"C:/Users/Owner/Documents/scRNAseq/Data/GSM/\"+code):\n",
    "       os.makedirs(\"C:/Users/Owner/Documents/scRNAseq/Data/GSM/\"+code[0])\n",
    "     \n",
    "\n",
    "\n",
    "    if re.match(r'matrix', file):\n",
    "        os.rename(os.path.join(folder_path, file), os.path.join(folder_path, \"GSM\"+code[0]+\".txt\"))\n",
    "    if os.path.isdir(\"C:/Users/Owner/Documents/scRNAseq/Data/GSM\"+code):\n",
    "        print(\"Directory exists\")"
   ]
  },
  {
   "cell_type": "code",
   "execution_count": null,
   "metadata": {},
   "outputs": [
    {
     "ename": "NameError",
     "evalue": "name 'code' is not defined",
     "output_type": "error",
     "traceback": [
      "\u001b[31m---------------------------------------------------------------------------\u001b[39m",
      "\u001b[31mNameError\u001b[39m                                 Traceback (most recent call last)",
      "\u001b[36mCell\u001b[39m\u001b[36m \u001b[39m\u001b[32mIn[11]\u001b[39m\u001b[32m, line 1\u001b[39m\n\u001b[32m----> \u001b[39m\u001b[32m1\u001b[39m \u001b[43mcode\u001b[49m\n",
      "\u001b[31mNameError\u001b[39m: name 'code' is not defined"
     ]
    }
   ],
   "source": [
    "code"
   ]
  },
  {
   "cell_type": "code",
   "execution_count": null,
   "metadata": {},
   "outputs": [
    {
     "ename": "NameError",
     "evalue": "name 'code' is not defined",
     "output_type": "error",
     "traceback": [
      "\u001b[31m---------------------------------------------------------------------------\u001b[39m",
      "\u001b[31mNameError\u001b[39m                                 Traceback (most recent call last)",
      "\u001b[36mCell\u001b[39m\u001b[36m \u001b[39m\u001b[32mIn[12]\u001b[39m\u001b[32m, line 1\u001b[39m\n\u001b[32m----> \u001b[39m\u001b[32m1\u001b[39m \u001b[38;5;28mprint\u001b[39m(\u001b[43mcode\u001b[49m)\n",
      "\u001b[31mNameError\u001b[39m: name 'code' is not defined"
     ]
    }
   ],
   "source": [
    "print(code)"
   ]
  }
 ],
 "metadata": {
  "kernelspec": {
   "display_name": "Python 3",
   "language": "python",
   "name": "python3"
  },
  "language_info": {
   "codemirror_mode": {
    "name": "ipython",
    "version": 3
   },
   "file_extension": ".py",
   "mimetype": "text/x-python",
   "name": "python",
   "nbconvert_exporter": "python",
   "pygments_lexer": "ipython3",
   "version": "3.13.5"
  }
 },
 "nbformat": 4,
 "nbformat_minor": 5
}
